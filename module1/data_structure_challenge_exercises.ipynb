{
 "cells": [
  {
   "cell_type": "code",
   "execution_count": 13,
   "id": "93adf220",
   "metadata": {},
   "outputs": [],
   "source": [
    "import pandas as pd"
   ]
  },
  {
   "cell_type": "markdown",
   "id": "636fcd29",
   "metadata": {},
   "source": [
    "# Challenge 1\n",
    "Find the most frequent words in a text file using sets."
   ]
  },
  {
   "cell_type": "code",
   "execution_count": 8,
   "id": "54be2206",
   "metadata": {},
   "outputs": [],
   "source": [
    "my_text = \"The sky was blue and clear. Birds chirped in the distance while leaves rustled softly in the wind. The calm morning brought peace, and the sunlight danced across the meadow.\"\n",
    "list_of_words = my_text.replace(\".\",\"\").replace(\",\",\"\").replace(\"!\",\"\").replace(\"?\", \"\").split(\" \")\n",
    "my_set = set(list_of_words)\n"
   ]
  },
  {
   "cell_type": "code",
   "execution_count": 9,
   "id": "ff9d3611",
   "metadata": {},
   "outputs": [
    {
     "data": {
      "text/plain": [
       "4"
      ]
     },
     "execution_count": 9,
     "metadata": {},
     "output_type": "execute_result"
    }
   ],
   "source": [
    "list_of_words.count(\"the\")"
   ]
  },
  {
   "cell_type": "code",
   "execution_count": 11,
   "id": "36586a19",
   "metadata": {},
   "outputs": [
    {
     "name": "stdout",
     "output_type": "stream",
     "text": [
      "The most frequent word is 'the' with a frequency of 4.\n"
     ]
    }
   ],
   "source": [
    "highest_frequency = 0\n",
    "most_frequent_word = \"\"\n",
    "for unique_word in my_set:\n",
    "    freq = list_of_words.count(unique_word)\n",
    "    if freq > highest_frequency:\n",
    "        highest_frequency = freq\n",
    "        most_frequent_word = unique_word\n",
    "print(f\"The most frequent word is '{most_frequent_word}' with a frequency of {highest_frequency}.\")"
   ]
  },
  {
   "cell_type": "markdown",
   "id": "fe07a66b",
   "metadata": {},
   "source": [
    "# Challenge 2\n",
    "Create a dictionary mapping airport codes to locations"
   ]
  },
  {
   "cell_type": "code",
   "execution_count": 14,
   "id": "c8fde50d",
   "metadata": {},
   "outputs": [
    {
     "data": {
      "text/html": [
       "<div>\n",
       "<style scoped>\n",
       "    .dataframe tbody tr th:only-of-type {\n",
       "        vertical-align: middle;\n",
       "    }\n",
       "\n",
       "    .dataframe tbody tr th {\n",
       "        vertical-align: top;\n",
       "    }\n",
       "\n",
       "    .dataframe thead th {\n",
       "        text-align: right;\n",
       "    }\n",
       "</style>\n",
       "<table border=\"1\" class=\"dataframe\">\n",
       "  <thead>\n",
       "    <tr style=\"text-align: right;\">\n",
       "      <th></th>\n",
       "      <th>Airport Code</th>\n",
       "      <th>Airport Name</th>\n",
       "    </tr>\n",
       "  </thead>\n",
       "  <tbody>\n",
       "    <tr>\n",
       "      <th>0</th>\n",
       "      <td>LAX</td>\n",
       "      <td>Los Angeles International Airport</td>\n",
       "    </tr>\n",
       "    <tr>\n",
       "      <th>1</th>\n",
       "      <td>JFK</td>\n",
       "      <td>John F. Kennedy International Airport</td>\n",
       "    </tr>\n",
       "    <tr>\n",
       "      <th>2</th>\n",
       "      <td>ORD</td>\n",
       "      <td>O'Hare International Airport</td>\n",
       "    </tr>\n",
       "    <tr>\n",
       "      <th>3</th>\n",
       "      <td>ATL</td>\n",
       "      <td>Hartsfield-Jackson Atlanta International Airport</td>\n",
       "    </tr>\n",
       "    <tr>\n",
       "      <th>4</th>\n",
       "      <td>DFW</td>\n",
       "      <td>Dallas/Fort Worth International Airport</td>\n",
       "    </tr>\n",
       "    <tr>\n",
       "      <th>5</th>\n",
       "      <td>DEN</td>\n",
       "      <td>Denver International Airport</td>\n",
       "    </tr>\n",
       "    <tr>\n",
       "      <th>6</th>\n",
       "      <td>SFO</td>\n",
       "      <td>San Francisco International Airport</td>\n",
       "    </tr>\n",
       "    <tr>\n",
       "      <th>7</th>\n",
       "      <td>SEA</td>\n",
       "      <td>Seattle-Tacoma International Airport</td>\n",
       "    </tr>\n",
       "    <tr>\n",
       "      <th>8</th>\n",
       "      <td>MIA</td>\n",
       "      <td>Miami International Airport</td>\n",
       "    </tr>\n",
       "    <tr>\n",
       "      <th>9</th>\n",
       "      <td>BOS</td>\n",
       "      <td>Boston Logan International Airport</td>\n",
       "    </tr>\n",
       "  </tbody>\n",
       "</table>\n",
       "</div>"
      ],
      "text/plain": [
       "  Airport Code                                      Airport Name\n",
       "0          LAX                 Los Angeles International Airport\n",
       "1          JFK             John F. Kennedy International Airport\n",
       "2          ORD                      O'Hare International Airport\n",
       "3          ATL  Hartsfield-Jackson Atlanta International Airport\n",
       "4          DFW           Dallas/Fort Worth International Airport\n",
       "5          DEN                      Denver International Airport\n",
       "6          SFO               San Francisco International Airport\n",
       "7          SEA              Seattle-Tacoma International Airport\n",
       "8          MIA                       Miami International Airport\n",
       "9          BOS                Boston Logan International Airport"
      ]
     },
     "execution_count": 14,
     "metadata": {},
     "output_type": "execute_result"
    }
   ],
   "source": [
    "airports_df = pd.read_csv(\"airport_codes.csv\")\n",
    "airports_df\n"
   ]
  },
  {
   "cell_type": "code",
   "execution_count": 15,
   "id": "2d2ebfab",
   "metadata": {},
   "outputs": [],
   "source": [
    "airport_dict = {}\n",
    "for ind, row in airports_df.iterrows():\n",
    "    airport_dict[row[\"Airport Code\"]] = row[\"Airport Name\"]"
   ]
  },
  {
   "cell_type": "code",
   "execution_count": 16,
   "id": "5b60228e",
   "metadata": {},
   "outputs": [
    {
     "data": {
      "text/plain": [
       "{'LAX': 'Los Angeles International Airport',\n",
       " 'JFK': 'John F. Kennedy International Airport',\n",
       " 'ORD': \"O'Hare International Airport\",\n",
       " 'ATL': 'Hartsfield-Jackson Atlanta International Airport',\n",
       " 'DFW': 'Dallas/Fort Worth International Airport',\n",
       " 'DEN': 'Denver International Airport',\n",
       " 'SFO': 'San Francisco International Airport',\n",
       " 'SEA': 'Seattle-Tacoma International Airport',\n",
       " 'MIA': 'Miami International Airport',\n",
       " 'BOS': 'Boston Logan International Airport'}"
      ]
     },
     "execution_count": 16,
     "metadata": {},
     "output_type": "execute_result"
    }
   ],
   "source": [
    "airport_dict"
   ]
  },
  {
   "cell_type": "markdown",
   "id": "297e026b",
   "metadata": {},
   "source": [
    "# Challenge \n",
    "Time membership checks on dict vs list with a large dataset"
   ]
  }
 ],
 "metadata": {
  "kernelspec": {
   "display_name": ".venv",
   "language": "python",
   "name": "python3"
  },
  "language_info": {
   "codemirror_mode": {
    "name": "ipython",
    "version": 3
   },
   "file_extension": ".py",
   "mimetype": "text/x-python",
   "name": "python",
   "nbconvert_exporter": "python",
   "pygments_lexer": "ipython3",
   "version": "3.10.15"
  }
 },
 "nbformat": 4,
 "nbformat_minor": 5
}
